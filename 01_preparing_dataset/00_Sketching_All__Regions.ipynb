{
 "cells": [
  {
   "cell_type": "code",
   "execution_count": 5,
   "id": "fe0d3118",
   "metadata": {},
   "outputs": [],
   "source": [
    "import numpy as np\n",
    "import scanpy as sc\n",
    "from fbpca import pca\n",
    "import time\n",
    "from geosketch import gs\n",
    "import pandas as pd\n",
    "import glob\n",
    "import os\n"
   ]
  },
  {
   "cell_type": "markdown",
   "id": "b3ada433",
   "metadata": {},
   "source": [
    "### We are creating sketches of each dataset to process with gene panel selection tools"
   ]
  },
  {
   "cell_type": "code",
   "execution_count": null,
   "id": "33b4554a",
   "metadata": {},
   "outputs": [],
   "source": [
    "path_to_loom_files = '/storage/adult_brain_genes/loom_files'\n",
    "path_to_linnarson_files = '/storage/adult_brain_genes'"
   ]
  },
  {
   "cell_type": "code",
   "execution_count": null,
   "id": "5ca2e18f",
   "metadata": {},
   "outputs": [],
   "source": [
    "fls = glob.glob(os.path.join(path_to_loom_files, '*.loom'))"
   ]
  },
  {
   "cell_type": "code",
   "execution_count": null,
   "id": "a8c7f768",
   "metadata": {
    "scrolled": true
   },
   "outputs": [
    {
     "name": "stdout",
     "output_type": "stream",
     "text": [
      "/storage/adult_brain_genes/loom_files/CerebralCortex.loom\n"
     ]
    }
   ],
   "source": [
    "for fl in fls:\n",
    "    print(fl)\n",
    "    adata = sc.read_loom(fl)\n",
    "    #preprocess\n",
    "    adata.var_names_make_unique()\n",
    "    adata.obs_names_make_unique()\n",
    "    sc.pp.filter_cells(adata, min_genes=500)\n",
    "    sc.pp.filter_genes(adata, min_cells=5)\n",
    "    # qc\n",
    "    adata.var['mt'] = adata.var_names.str.startswith('MT-')\n",
    "    sc.pp.calculate_qc_metrics(adata, qc_vars=['mt'], percent_top=None, log1p=False, inplace=True)\n",
    "    adata = adata[adata.obs.n_genes_by_counts < 4000, :]\n",
    "    adata = adata[adata.obs.pct_counts_mt < 5, :]\n",
    "    #more preprocess\n",
    "    sc.pp.normalize_total(adata, target_sum=1e4)\n",
    "    sc.pp.log1p(adata)\n",
    "    sc.pp.highly_variable_genes(adata)\n",
    "    adata.raw = adata\n",
    "\n",
    "    #get the superclusters from the cluster annotation file\n",
    "    cluster_annotations = pd.read_csv(os.path.join(path_to_linnarson_files, 'cluster_annotation.csv'), delimiter='@')\n",
    "    cluster_main = cluster_annotations['Supercluster'].tolist()\n",
    "\n",
    "    #need to remove some parts of the following code to clean it up. Adding supercluster to adata\n",
    "    cluster_true = []\n",
    "    for i in cluster_main:\n",
    "        cluster_true.append(i)\n",
    "    cluster_annotations['cluster_true'] = cluster_true \n",
    "    enriched_genes = cluster_annotations['Top Enriched Genes'].tolist()\n",
    "\n",
    "    gene_dictionary = {}\n",
    "    for i in cluster_true:\n",
    "        gene_dictionary[i] = []\n",
    "    lin_genes = []\n",
    "    for i in range(len(enriched_genes)):\n",
    "        try:\n",
    "            for j in enriched_genes[i].split(','):\n",
    "                gene_dictionary[cluster_true[i]].append(j)\n",
    "        except:\n",
    "            print('float')\n",
    "\n",
    "    lin_genes= []\n",
    "    for key in gene_dictionary:\n",
    "        sb = gene_dictionary.get(key)\n",
    "        for k in sb:\n",
    "            lin_genes.append(k.strip())\n",
    "    lin_genes=list(set(lin_genes))\n",
    "    unique_clusters = np.unique(adata.obs['Clusters'].tolist(), return_counts=True)[1]\n",
    "    general_groups = []\n",
    "    for cl in adata.obs['Clusters']:\n",
    "        general_groups.append(cluster_annotations.loc[cl]['cluster_true'])\n",
    "    adata.obs['celltype'] = pd.Categorical(general_groups)\n",
    "\n",
    "    X_matrix = np.array(adata[:,adata.var.highly_variable].X.todense())\n",
    "\n",
    "    N = 10000\n",
    "    U, s, Vt = pca(X_matrix[:,:], k=100) # E.g., 100 PCs.\n",
    "    X_dimred = U[:, :100] * s[:100]\n",
    "\n",
    "\n",
    "    time1 = time.time()\n",
    "\n",
    "    sketch_index = gs(X_dimred, N, replace=False)\n",
    "\n",
    "    X_sketch = X_dimred[sketch_index]\n",
    "    print(time.time()- time1)\n",
    "\n",
    "    adata_sketch = adata[sketch_index, :]\n",
    "\n",
    "    sc.tl.pca(adata_sketch)\n",
    "\n",
    "    sc.pp.neighbors(adata_sketch)\n",
    "    sc.tl.umap(adata_sketch)\n",
    "\n",
    "    adata_sketch.write(os.path.join(path_to_linnarson_files,'sketches', os.path.basename(fl).split('.')[0]+'.h5ad'))"
   ]
  },
  {
   "cell_type": "code",
   "execution_count": null,
   "id": "56a3d965",
   "metadata": {},
   "outputs": [],
   "source": []
  }
 ],
 "metadata": {
  "kernelspec": {
   "display_name": "Python 3 (ipykernel)",
   "language": "python",
   "name": "python3"
  },
  "language_info": {
   "codemirror_mode": {
    "name": "ipython",
    "version": 3
   },
   "file_extension": ".py",
   "mimetype": "text/x-python",
   "name": "python",
   "nbconvert_exporter": "python",
   "pygments_lexer": "ipython3",
   "version": "3.10.0"
  }
 },
 "nbformat": 4,
 "nbformat_minor": 5
}
