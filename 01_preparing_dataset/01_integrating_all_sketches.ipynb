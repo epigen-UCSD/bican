{
 "cells": [
  {
   "cell_type": "code",
   "execution_count": null,
   "metadata": {},
   "outputs": [],
   "source": [
    "import scanpy as sc\n",
    "import glob\n",
    "from tqdm.notebook import tqdm\n",
    "import numpy as np\n",
    "import os"
   ]
  },
  {
   "cell_type": "code",
   "execution_count": null,
   "metadata": {},
   "outputs": [],
   "source": [
    "basepath = '/storage/adult_brain_genes/sketches'\n",
    "outpath = '/storage/adult_brain_genes/sketches_gene_choice_scripts'"
   ]
  },
  {
   "cell_type": "markdown",
   "metadata": {},
   "source": [
    "#### Read in all region sketches and concatenate them"
   ]
  },
  {
   "cell_type": "code",
   "execution_count": null,
   "metadata": {},
   "outputs": [],
   "source": [
    "current_ad = None\n",
    "for adata in tqdm(glob.glob(os.path.join('basepath', '*'))):\n",
    "    ad = sc.read(adata)\n",
    "    ad.var.index = ad.var.genes.tolist()\n",
    "    ad.var_names_make_unique()\n",
    "    ad.obs['batch'] = os.path.basename(adata).split('.')[0]\n",
    "    try:\n",
    "        current_ad == None\n",
    "        current_ad = ad.copy()\n",
    "    except:\n",
    "        current_ad = sc.concat([current_ad, ad], merge='same', uns_merge='same')\n",
    "    current_ad.obs_names_make_unique()"
   ]
  },
  {
   "cell_type": "code",
   "execution_count": null,
   "metadata": {},
   "outputs": [],
   "source": [
    "sc.tl.pca(current_ad)\n",
    "sc.pp.neighbors(current_ad)\n",
    "sc.tl.umap(current_ad)"
   ]
  },
  {
   "cell_type": "code",
   "execution_count": null,
   "metadata": {},
   "outputs": [],
   "source": [
    "current_ad.write(os.path.join(outpath, 'combined_sketches.h5ad'))"
   ]
  }
 ],
 "metadata": {
  "language_info": {
   "name": "python"
  },
  "orig_nbformat": 4
 },
 "nbformat": 4,
 "nbformat_minor": 2
}
