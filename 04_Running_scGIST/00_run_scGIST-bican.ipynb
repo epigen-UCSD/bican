{
 "cells": [
  {
   "cell_type": "code",
   "execution_count": 7,
   "metadata": {
    "pycharm": {
     "name": "#%%\n"
    }
   },
   "outputs": [],
   "source": [
    "import pandas as pd\n",
    "import os\n",
    "import scanpy as sc\n",
    "import numpy as np\n",
    "\n",
    "from scGIST import scGIST\n",
    "from scGIST import test_classifier, get_priority_score_list"
   ]
  },
  {
   "cell_type": "code",
   "execution_count": null,
   "metadata": {},
   "outputs": [],
   "source": [
    "path = '/storage/adult_brain_genes/sketches_gene_choice_scripts'"
   ]
  },
  {
   "cell_type": "code",
   "execution_count": 2,
   "metadata": {
    "pycharm": {
     "name": "#%%\n"
    }
   },
   "outputs": [],
   "source": [
    "adata = sc.read(os.path.join(path, 'combined_sketches.h5ad'))"
   ]
  },
  {
   "cell_type": "code",
   "execution_count": 14,
   "metadata": {},
   "outputs": [],
   "source": [
    "uni = np.unique(adata.obs['Clusters'], return_counts=True)"
   ]
  },
  {
   "cell_type": "code",
   "execution_count": 1,
   "metadata": {
    "scrolled": true
   },
   "outputs": [],
   "source": [
    "adata = adata[adata.obs['Clusters'].isin(uni[0][np.where(uni[1] > 1)]), :]\n",
    "adata.X = adata.X.todense()"
   ]
  },
  {
   "cell_type": "code",
   "execution_count": 2,
   "metadata": {
    "scrolled": true
   },
   "outputs": [],
   "source": [
    "for label_column in ['celltype', 'Clusters']:\n",
    "    n_genes = adata.X.shape[1]\n",
    "    n_classes = adata.obs[label_column].unique().size\n",
    "    import numpy as np\n",
    "    if label_column =='celltype':\n",
    "        listed = [500, 1000]\n",
    "    else:\n",
    "        listed = [500, 1000]\n",
    "    for panel_size in listed:\n",
    "        pather =os.path.join(f'scGIST_{panel_size}_genes_{label_column}')\n",
    "        try:\n",
    "            os.mkdir(pather)\n",
    "        except:\n",
    "            None\n",
    "        gist = scGIST()\n",
    "        gist.create_model(n_genes, n_classes, panel_size=panel_size, alpha=0.2)\n",
    "        gist.compile_model()\n",
    "        \n",
    "        gist.train_model(adata, label_column, verbose=2, epochs=200)\n",
    "        # get marker names and plot the marker weights\n",
    "        markers = gist.get_markers_names(adata, verbose=0, plot_weights=True)\n",
    "        pd.DataFrame(markers).to_csv(os.path.join(pather, 'markers.csv'))"
   ]
  },
  {
   "cell_type": "markdown",
   "metadata": {
    "pycharm": {
     "name": "#%% md\n"
    }
   },
   "source": [
    "Run the model with priority given to genes of interest"
   ]
  },
  {
   "cell_type": "code",
   "execution_count": 9,
   "metadata": {
    "pycharm": {
     "name": "#%%\n"
    }
   },
   "outputs": [],
   "source": [
    "# Load the data and convert it to list using utility function\n",
    "gene_priorities = pd.read_csv('./data/head_neck/gene_priorities.csv')\n",
    "priority_scores = get_priority_score_list(adata, gene_priorities)"
   ]
  },
  {
   "cell_type": "code",
   "execution_count": 12,
   "metadata": {
    "pycharm": {
     "name": "#%%\n"
    }
   },
   "outputs": [
    {
     "data": {
      "text/plain": [
       "<tensorflow.python.keras.callbacks.History at 0x20df3177a08>"
      ]
     },
     "execution_count": 12,
     "metadata": {},
     "output_type": "execute_result"
    }
   ],
   "source": [
    "panel_size = 350\n",
    "gist = scGIST()\n",
    "gist.create_model(n_genes, n_classes, panel_size=panel_size, priority_scores=priority_scores, alpha=0.2)\n",
    "gist.compile_model()\n",
    "gist.train_model(adata, label_column, verbose=0, epochs=200)"
   ]
  },
  {
   "cell_type": "code",
   "execution_count": 13,
   "metadata": {
    "pycharm": {
     "name": "#%%\n"
    }
   },
   "outputs": [
    {
     "name": "stdout",
     "output_type": "stream",
     "text": [
      "Accuracy: 90.14722536806342, F1-score: 0.8682288854464917\n"
     ]
    }
   ],
   "source": [
    "markers_indices = gist.get_markers_indices()\n",
    "accuracy, f1 = test_classifier(adata, label_column, markers=markers_indices)\n",
    "print(f'Accuracy: {accuracy}, F1-score: {f1}')"
   ]
  }
 ],
 "metadata": {
  "kernelspec": {
   "display_name": "Python 3 (ipykernel)",
   "language": "python",
   "name": "python3"
  },
  "language_info": {
   "codemirror_mode": {
    "name": "ipython",
    "version": 3
   },
   "file_extension": ".py",
   "mimetype": "text/x-python",
   "name": "python",
   "nbconvert_exporter": "python",
   "pygments_lexer": "ipython3",
   "version": "3.9.17"
  }
 },
 "nbformat": 4,
 "nbformat_minor": 1
}
